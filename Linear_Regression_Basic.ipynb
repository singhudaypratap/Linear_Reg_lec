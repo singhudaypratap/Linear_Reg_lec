{
  "nbformat": 4,
  "nbformat_minor": 0,
  "metadata": {
    "colab": {
      "provenance": []
    },
    "kernelspec": {
      "name": "python3",
      "display_name": "Python 3"
    },
    "language_info": {
      "name": "python"
    }
  },
  "cells": [
    {
      "cell_type": "markdown",
      "source": [
        "#Linear Regression\n",
        "X = (1, 2, 3, 4, 5)\n",
        "y = (2, 4, 5, 4, 6)\n",
        "Our goal is to build a linear regression model that predicts the value of Y based on the value of X.\n",
        "To do this, we need to find the equation of the line that best fits the data points. The equation of a straight line is given by:\n",
        "y = mx + b \n",
        "where m is the slope of the line, and b is the y-intercept (the point where the line intersects the y-axis).\n",
        "To find the best values of m and b that fit the data points, we can use the method of least squares. This method involves minimizing the sum of the squared distances between the actual and predicted values of Y for each data point.\n",
        "The equation for the slope of the line is given by:\n",
        "m = (nΣxy - ΣxΣy) / (nΣx^2 - (Σx)^2)\n",
        "where n is the number of data points, Σxy is the sum of the products of X and Y, Σx and Σy are the sums of X and Y, respectively, and Σx^2 is the sum of the squares of X.\n",
        "The equation for the y-intercept is given by:\n",
        "b = (Σy - mΣx) / n\n",
        "Substituting the values from our dataset, we get:\n",
        "n = 5\n",
        "Σx = 15\n",
        "Σy = 21\n",
        "Σxy = 71\n",
        "Σx^2 = 55\n",
        "\n",
        "m = (5*71 - 15*21) / (5*55 - 15^2) = 0.8\n",
        "b = (21 - 0.8*15) / 5 = 1.8\n",
        "Therefore, the equation of the line that best fits the data points is:\n",
        "\n",
        "y = 0.8x + 1.8\n"
      ],
      "metadata": {
        "id": "ZGNd1V4CyaqA"
      }
    },
    {
      "cell_type": "markdown",
      "source": [
        "#Python Code\n",
        "Now, let's write some Python code to implement Linear Regression on the same dataset.\n",
        "We'll be using the scikit-learn library, which provides a simple and easy-to-use interface for implementing various machine learning algorithms.\n"
      ],
      "metadata": {
        "id": "0CFClVK2zMrw"
      }
    },
    {
      "cell_type": "code",
      "execution_count": 1,
      "metadata": {
        "colab": {
          "base_uri": "https://localhost:8080/"
        },
        "id": "7vOSdD3jhRWW",
        "outputId": "ff749d6c-b94b-4c15-eab7-93f06adb91ac"
      },
      "outputs": [
        {
          "output_type": "stream",
          "name": "stdout",
          "text": [
            "Slope:  0.8000000000000002\n",
            "Y-intercept:  1.7999999999999998\n"
          ]
        }
      ],
      "source": [
        "import numpy as np\n",
        "from sklearn.linear_model import LinearRegression\n",
        "\n",
        "# create the dataset\n",
        "X = np.array([[1], [2], [3], [4], [5]])\n",
        "y = np.array([2, 4, 5, 4, 6])\n",
        "\n",
        "# create the linear regression model and fit the data\n",
        "model = LinearRegression().fit(X, y)\n",
        "\n",
        "# print the slope and y-intercept\n",
        "print(\"Slope: \", model.coef_[0])\n",
        "print(\"Y-intercept: \", model.intercept_)"
      ]
    },
    {
      "cell_type": "code",
      "source": [
        "import matplotlib.pyplot as plt\n",
        "\n",
        "# generate some data points for plotting the regression line\n",
        "y_pred = model.predict(X)\n",
        "\n",
        "# plot the data points and regression line\n",
        "plt.scatter(X, y)\n",
        "plt.plot(X, y_pred, color='red')\n",
        "plt.show()\n"
      ],
      "metadata": {
        "colab": {
          "base_uri": "https://localhost:8080/",
          "height": 265
        },
        "id": "QuckrtPsiQyU",
        "outputId": "ab3b580c-c53e-4395-a1a4-fd050fdad39d"
      },
      "execution_count": 2,
      "outputs": [
        {
          "output_type": "display_data",
          "data": {
            "text/plain": [
              "<Figure size 432x288 with 1 Axes>"
            ],
            "image/png": "[encoded data removed]"
          },
          "metadata": {
            "needs_background": "light"
          }
        }
      ]
    },
    {
      "cell_type": "code",
      "source": [
        "import seaborn as sns\n",
        "import pandas as pd\n",
        "# create a DataFrame with the X and y values\n",
        "df = pd.DataFrame({'X': X.reshape(-1), 'y': y})\n",
        "\n",
        "# plot the data points and regression line using seaborn\n",
        "sns.lmplot(x='X', y='y', data=df)\n",
        "plt.show()\n"
      ],
      "metadata": {
        "colab": {
          "base_uri": "https://localhost:8080/",
          "height": 369
        },
        "id": "EF0w-ACVmukx",
        "outputId": "1a98921b-35d1-4175-b379-b8b9abca261d"
      },
      "execution_count": 3,
      "outputs": [
        {
          "output_type": "display_data",
          "data": {
            "text/plain": [
              "<Figure size 360x360 with 1 Axes>"
            ],
            "image/png": "[encoded data removed]"
          },
          "metadata": {
            "needs_background": "light"
          }
        }
      ]
    },
    {
      "cell_type": "code",
      "source": [
        "# calculate the R^2 score\n",
        "r2_score = model.score(X, y)\n",
        "print(\"R^2 score: \", r2_score)\n"
      ],
      "metadata": {
        "colab": {
          "base_uri": "https://localhost:8080/"
        },
        "id": "AP3LSWN7jSS9",
        "outputId": "ef815b12-200c-45f8-cc31-9253de39f0c9"
      },
      "execution_count": 4,
      "outputs": [
        {
          "output_type": "stream",
          "name": "stdout",
          "text": [
            "R^2 score:  0.7272727272727274\n"
          ]
        }
      ]
    },
    {
      "cell_type": "code",
      "source": [
        "# predict the value of y for a new value of x\n",
        "x_new = [[6]]\n",
        "#x_new = np.array([[6]])\n",
        "y_new = model.predict(x_new)\n",
        "print(\"Predicted value of y for x = 6: \", y_new[0])\n"
      ],
      "metadata": {
        "colab": {
          "base_uri": "https://localhost:8080/"
        },
        "id": "A8CzDL64hxf3",
        "outputId": "39b2547a-8566-4481-b7cd-8cc1cfccbdcb"
      },
      "execution_count": 5,
      "outputs": [
        {
          "output_type": "stream",
          "name": "stdout",
          "text": [
            "Predicted value of y for x = 6:  6.6000000000000005\n"
          ]
        }
      ]
    },
    {
      "cell_type": "markdown",
      "source": [
        "In the code above, we first create the dataset using numpy arrays. Then, we create an instance of the LinearRegression class and fit the data using the fit() method.\n",
        "We then print the values of the slope and y-intercept using the coef_ and intercept_ attributes of the model object.\n",
        "Finally, we predict the value of y for a new value of x (6 in this case) using the predict() method and print the result.\n"
      ],
      "metadata": {
        "id": "T-OhWMS_zeks"
      }
    },
    {
      "cell_type": "markdown",
      "source": [
        "#lets do this using statsmodel"
      ],
      "metadata": {
        "id": "9WSgB0IyzhOb"
      }
    },
    {
      "cell_type": "code",
      "source": [
        "import statsmodels.api as sm\n",
        "\n",
        "# add a constant to X for the intercept term\n",
        "X = sm.add_constant(X)\n",
        "\n",
        "# create and fit the OLS model\n",
        "model_ols = sm.OLS(y, X).fit()\n",
        "\n",
        "# print the model summary\n",
        "print(model_ols.summary())"
      ],
      "metadata": {
        "colab": {
          "base_uri": "https://localhost:8080/"
        },
        "id": "syTqi4ptvXf1",
        "outputId": "89e7f310-4959-4116-d08c-b2bb8c17633e"
      },
      "execution_count": 6,
      "outputs": [
        {
          "output_type": "stream",
          "name": "stdout",
          "text": [
            "                            OLS Regression Results                            \n",
            "==============================================================================\n",
            "Dep. Variable:                      y   R-squared:                       0.727\n",
            "Model:                            OLS   Adj. R-squared:                  0.636\n",
            "Method:                 Least Squares   F-statistic:                     8.000\n",
            "Date:                Sun, 12 Mar 2023   Prob (F-statistic):             0.0663\n",
            "Time:                        21:52:20   Log-Likelihood:                -5.2598\n",
            "No. Observations:                   5   AIC:                             14.52\n",
            "Df Residuals:                       3   BIC:                             13.74\n",
            "Df Model:                           1                                         \n",
            "Covariance Type:            nonrobust                                         \n",
            "==============================================================================\n",
            "                 coef    std err          t      P>|t|      [0.025      0.975]\n",
            "------------------------------------------------------------------------------\n",
            "const          1.8000      0.938      1.919      0.151      -1.185       4.785\n",
            "x1             0.8000      0.283      2.828      0.066      -0.100       1.700\n",
            "==============================================================================\n",
            "Omnibus:                          nan   Durbin-Watson:                   2.567\n",
            "Prob(Omnibus):                    nan   Jarque-Bera (JB):                0.570\n",
            "Skew:                          -0.289   Prob(JB):                        0.752\n",
            "Kurtosis:                       1.450   Cond. No.                         8.37\n",
            "==============================================================================\n",
            "\n",
            "Notes:\n",
            "[1] Standard Errors assume that the covariance matrix of the errors is correctly specified.\n"
          ]
        },
        {
          "output_type": "stream",
          "name": "stderr",
          "text": [
            "/usr/local/lib/python3.9/dist-packages/statsmodels/stats/stattools.py:74: ValueWarning: omni_normtest is not valid with less than 8 observations; 5 samples were given.\n",
            "  warn(\"omni_normtest is not valid with less than 8 observations; %i \"\n"
          ]
        }
      ]
    },
    {
      "cell_type": "markdown",
      "source": [
        "In OLS (Ordinary Least Squares) regression, the P>|t| value represents the p-value associated with the t-statistic for each coefficient in the model.\n",
        "\n",
        "The t-statistic is calculated by dividing the estimated coefficient by its standard error. The P>|t| value is the probability of observing a t-statistic as extreme as the one computed for the coefficient, assuming that the null hypothesis is true (i.e., the coefficient is equal to zero).\n",
        "\n",
        "The [0.025, 0.975] interval is known as the confidence interval for the coefficient estimate. It represents a range of values within which we can be confident that the true value of the coefficient lies with a certain level of probability (usually 95%).\n",
        "\n",
        "Therefore, in simple terms, the P>|t| value indicates the statistical significance of the coefficient estimate. A small P>|t| value (e.g., less than 0.05) suggests that the coefficient is statistically significant, meaning that it is unlikely to have occurred by chance alone. Conversely, a large P>|t| value (e.g., greater than 0.05) suggests that the coefficient is not statistically significant and may have occurred by chance.\n",
        "\n",
        "The confidence interval [0.025, 0.975] provides a range of plausible values for the true value of the coefficient. If this interval includes zero, then we cannot reject the null hypothesis and conclude that the coefficient is not statistically significant. If the interval does not include zero, then we can reject the null hypothesis and conclude that the coefficient is statistically significant at the given level of probability."
      ],
      "metadata": {
        "id": "dM64GTaCyJ1-"
      }
    }
  ]
}